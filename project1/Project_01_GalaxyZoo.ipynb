{
  "cells": [
    {
      "cell_type": "markdown",
      "metadata": {
        "id": "EShpsW2cyDyn"
      },
      "source": [
        "# Galaxy Zoo"
      ]
    },
    {
      "cell_type": "markdown",
      "metadata": {
        "id": "yG8Fw6D7yDyo"
      },
      "source": [
        "<div>\n",
        "<img src=\"https://raw.githubusercontent.com/illinois-ipaml/MachineLearningForPhysics/main/img/Project_GalaxyZoo-galaxypic.png\" width=500></img>\n",
        "</div>"
      ]
    },
    {
      "cell_type": "markdown",
      "metadata": {
        "id": "3-NXwpX0yDyo"
      },
      "source": [
        "## <span style=\"color:Orange\">Overview</span>"
      ]
    },
    {
      "cell_type": "markdown",
      "metadata": {
        "id": "-Gg_xE_8yDyo"
      },
      "source": [
        "Understanding how and why we are here is one of the fundamental questions for the ages. Part of the answer to this question lies in the origins of galaxies, such as our own Milky Way. Yet questions remain about how the Milky Way (or any of the other ~100 billion galaxies in our Universe) was formed and has evolved. Galaxies come in all shapes, sizes and colors: from beautiful spirals to huge ellipticals. “Kevin Schawinski, previously an astrophysicist at Oxford University and co-founder of Galaxy Zoo, described the problem that led to Galaxy Zoo's creation when he was set the task of classifying the morphology of more than 900,000 galaxies by eye that had been imaged by the Sloan Digital Sky Survey at the Apache Point Observatory in New Mexico, USA.”"
      ]
    },
    {
      "cell_type": "markdown",
      "metadata": {
        "id": "iagfw21fyDyo"
      },
      "source": [
        "## <span style=\"color:Orange\">Data Sources</span>"
      ]
    },
    {
      "cell_type": "markdown",
      "metadata": {
        "id": "CiRpcIr0yDyp"
      },
      "source": [
        "Original Source\n",
        "* https://www.kaggle.com/competitions/galaxy-zoo-the-galaxy-challenge/data (requires Kaggle account)"
      ]
    },
    {
      "cell_type": "markdown",
      "metadata": {
        "id": "iZp5o_ElyDyp"
      },
      "source": [
        "File URLs\n",
        "* https://courses.physics.illinois.edu/phys498mlp/sp2025/data/projects/GalaxyZoo/all_ones_benchmark.zip\n",
        "* https://courses.physics.illinois.edu/phys498mlp/sp2025/data/projects/GalaxyZoo/all_zeros_benchmark.zip\n",
        "* https://courses.physics.illinois.edu/phys498mlp/sp2025/data/projects/GalaxyZoo/central_pixel_benchmark.zip\n",
        "* https://courses.physics.illinois.edu/phys498mlp/sp2025/data/projects/GalaxyZoo/images_test_rev1.zip\n",
        "* https://courses.physics.illinois.edu/phys498mlp/sp2025/data/projects/GalaxyZoo/images_training_rev1.zip\n",
        "* https://courses.physics.illinois.edu/phys498mlp/sp2025/data/projects/GalaxyZoo/training_solutions_rev1.zip"
      ]
    },
    {
      "cell_type": "markdown",
      "metadata": {
        "id": "9j2muCOIyDyp"
      },
      "source": [
        "## <span style=\"color:Orange\">Questions</span>"
      ]
    },
    {
      "cell_type": "markdown",
      "metadata": {
        "id": "nw9vbJpjyDyp"
      },
      "source": [
        "### <span style=\"color:LightGreen\">Question 01</span>"
      ]
    },
    {
      "cell_type": "markdown",
      "metadata": {
        "id": "QTnodCEOyDyp"
      },
      "source": [
        "What is the Sky Survey? What motivated scientists to create such a survey?"
      ]
    },
    {
      "cell_type": "markdown",
      "source": [
        "## Answer for Question 01\n",
        "\n",
        "The **Sloan Digital Sky Survey (SDSS)** is a large project that systematically maps the night sky using digital imaging and spectroscopy.  \n",
        "It provides uniform and precise data for millions of celestial objects such as stars and galaxies.  \n",
        "Scientists created this survey to replace small, inconsistent observations with a complete, statistically meaningful sample.  \n",
        "Because the dataset was enormous, projects like **Galaxy Zoo** were developed to let volunteers visually classify galaxies and make large-scale morphology studies possible.\n",
        "\n"
      ],
      "metadata": {
        "id": "VBo1chy5yGWP"
      }
    },
    {
      "cell_type": "markdown",
      "metadata": {
        "id": "2n6bbYH4yDyp"
      },
      "source": [
        "### <span style=\"color:LightGreen\">Question 02</span>"
      ]
    },
    {
      "cell_type": "markdown",
      "metadata": {
        "tags": [],
        "id": "5fxuaHelyDyp"
      },
      "source": [
        "Galaxy Zoo guides its citizen scientists through a nested decision tree - this is what constitutes the classification process. ​Why is it important to be able to classify galaxies? Why are the different shapes of galaxies so important? What information is provided from different galaxy colors?"
      ]
    },
    {
      "cell_type": "markdown",
      "source": [
        "## Answer for Question 02\n",
        "\n",
        "Galaxy classification helps astronomers understand how galaxies form and evolve.  \n",
        "Different morphologies correspond to different physical histories:  \n",
        "ellipticals are generally red, old, and merger-formed, while spirals are blue, gas-rich, and still forming stars.  \n",
        "Color also indicates stellar population and star-formation activity.  \n",
        "By linking morphology and color, scientists can study the connection between structure, stellar age, and environment.\n"
      ],
      "metadata": {
        "id": "10cZpazn0Yij"
      }
    },
    {
      "cell_type": "markdown",
      "metadata": {
        "id": "UcnCv3PlyDyp"
      },
      "source": [
        "### <span style=\"color:LightGreen\">Question 03</span>"
      ]
    },
    {
      "cell_type": "markdown",
      "metadata": {
        "id": "3v0_EkoayDyp"
      },
      "source": [
        "After reading a thorough reading of the paper in [[1]](https://arxiv.org/pdf/1308.3496.pdf), ​describe what constitutes the decision tree. What are the conditions described in the decision tree?"
      ]
    },
    {
      "cell_type": "markdown",
      "source": [
        "## Answer for Question 03\n",
        "\n",
        "The **decision tree** in **Galaxy Zoo 2** is a structured series of classification questions shown to each volunteer.  \n",
        "It begins with “Is the galaxy smooth or does it have features or a disk?” and then branches into more specific tasks, such as checking for bars, spiral arms, or bulges.  \n",
        "There are **11 main questions** and **37 total possible responses**.  \n",
        "Each step depends on previous answers — for example, the bar question appears only if the galaxy was identified as a face-on disk.  \n",
        "This conditional design ensures detailed and consistent morphological information across all classifications.\n"
      ],
      "metadata": {
        "id": "UIyxkjEk1BiI"
      }
    },
    {
      "cell_type": "markdown",
      "metadata": {
        "id": "5YnJwp2RyDyp"
      },
      "source": [
        "### <span style=\"color:LightGreen\">Question 04</span>"
      ]
    },
    {
      "cell_type": "markdown",
      "metadata": {
        "tags": [],
        "id": "ttBgGNqoyDyq"
      },
      "source": [
        "Download file `central_pixel_benchmark.zip` from either of the data source locations above.\n",
        "\n",
        "The header of the Benchmark data looks something like this:\n",
        "\n",
        "```\n",
        "GalaxyID,\n",
        "Class1.1, Class1.2, Class1.3,\n",
        "Class2.1, Class2.2,\n",
        "Class3.1, Class3.2,\n",
        "Class4.1, Class4.2,\n",
        "Class5.1, Class5.2, Class5.3, Class5.4,\n",
        "Class6.1, Class6.2,\n",
        "Class7.1, Class7.2, Class7.3,\n",
        "Class8.1, Class8.2, Class8.3, Class8.4, Class8.5, Class8.6, Class8.7,\n",
        "Class9.1, Class9.2, Class9.3,\n",
        "Class10.1, Class10.2, Class10.3,\n",
        "Class11.1, Class11.2, Class11.3, Class11.4, Class11.5, Class11.6\n",
        "```\n",
        "Label each class number with each corresponding decision tree conditions.\n"
      ]
    },
    {
      "cell_type": "markdown",
      "source": [
        "## Solution for Question 04"
      ],
      "metadata": {
        "id": "3R5G-MfB2Kl_"
      }
    },
    {
      "cell_type": "code",
      "source": [],
      "metadata": {
        "id": "JKiVAyV12Ox4"
      },
      "execution_count": null,
      "outputs": []
    },
    {
      "cell_type": "markdown",
      "metadata": {
        "id": "0sSW0cc8yDyq"
      },
      "source": [
        "### <span style=\"color:LightGreen\">Question 05</span>"
      ]
    },
    {
      "cell_type": "markdown",
      "metadata": {
        "tags": [],
        "id": "-vNfsjn9yDyq"
      },
      "source": [
        "Sample data would look something like the following:\n",
        "\n",
        "```\n",
        "100018,\n",
        "0.468481225, 0.506184901, 0.025333873,\n",
        "0.099843579, 0.406341321,\n",
        "0.095166943, 0.311174378,\n",
        "0.185079516, 0.221261805,\n",
        "0.019014618, 0.157050124, 0.194385937, 0.035890642,\n",
        "0.214294993, 0.785705007,\n",
        "0.195926631, 0.221751402, 0.050803194,\n",
        "0.038988255, 0.014478764, 0.027519262, 0.023837245, 0.063030884, 0.043247289, 0.003193269,\n",
        "0.066031673, 0.010392192, 0.023419713,\n",
        "0.082313979, 0.07125346, 0.031512075,\n",
        "0.012281073, 0.079963984, 0.01434553, 0.006368535, 0.006648832, 0\n",
        "```\n",
        "\n",
        "The first one is the `GalaxyID` and the following are the probabilities of each node. Can you tell what is the most likely (highest likelihood) Class for this galaxy?"
      ]
    },
    {
      "cell_type": "markdown",
      "source": [
        "## Solution for Question 05"
      ],
      "metadata": {
        "id": "H7X0oIt62S0T"
      }
    },
    {
      "cell_type": "code",
      "source": [],
      "metadata": {
        "id": "zZaaheeO2V0v"
      },
      "execution_count": null,
      "outputs": []
    },
    {
      "cell_type": "markdown",
      "metadata": {
        "id": "WBLeCYhryDyq"
      },
      "source": [
        "### <span style=\"color:LightGreen\">Question 06</span>"
      ]
    },
    {
      "cell_type": "markdown",
      "metadata": {
        "tags": [],
        "id": "ij3M8QJ2yDyq"
      },
      "source": [
        "Draw the classification distribution histogram. Can you tell which type of Galaxy is the majority distribution?"
      ]
    },
    {
      "cell_type": "markdown",
      "source": [
        "## Solution for Question 06"
      ],
      "metadata": {
        "id": "-f5gsoBS2Uz5"
      }
    },
    {
      "cell_type": "code",
      "source": [],
      "metadata": {
        "id": "eyB1s8Kd2WcA"
      },
      "execution_count": null,
      "outputs": []
    },
    {
      "cell_type": "markdown",
      "metadata": {
        "id": "BYpDESZUyDyq"
      },
      "source": [
        "## <span style=\"color:Orange\">References</span>\n",
        "\n",
        "__[<span style=\"color:Red\">1</span>]__ K.W. Willet, _et.al_, \"Galaxy Zoo 2: detailed morphological classifications for 304,122 galaxies from the Sloan Digital Sky Survey\", _Mon.Not.Roy.Astron.Soc_. 435 (2013) 2835, e-Print: [1308.3496](https://arxiv.org/abs/1308.3496) [astro-ph.CO]"
      ]
    },
    {
      "cell_type": "markdown",
      "metadata": {
        "id": "BIpxNh9gyDyq"
      },
      "source": [
        "## <span style=\"color:Orange\">Acknowledgements</span>\n",
        "\n",
        "* Initial version: Mark Neubauer\n",
        "\n",
        "© Copyright 2025"
      ]
    }
  ],
  "metadata": {
    "kernelspec": {
      "display_name": "Python 3 (ipykernel)",
      "language": "python",
      "name": "python3"
    },
    "language_info": {
      "codemirror_mode": {
        "name": "ipython",
        "version": 3
      },
      "file_extension": ".py",
      "mimetype": "text/x-python",
      "name": "python",
      "nbconvert_exporter": "python",
      "pygments_lexer": "ipython3",
      "version": "3.9.7"
    },
    "colab": {
      "provenance": []
    }
  },
  "nbformat": 4,
  "nbformat_minor": 0
}